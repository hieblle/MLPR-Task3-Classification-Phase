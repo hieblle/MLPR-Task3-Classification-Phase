{
 "cells": [
  {
   "cell_type": "markdown",
   "id": "94de2bb5",
   "metadata": {},
   "source": [
    "# MLPR Task 3: Classification Phase"
   ]
  },
  {
   "cell_type": "code",
   "execution_count": 15,
   "id": "43fc9001",
   "metadata": {},
   "outputs": [],
   "source": [
    "import pandas as pd\n",
    "import numpy as np\n",
    "import matplotlib.pyplot as plt\n",
    "#from sklearn.linear_model import LogisticRegression\n",
    "from sklearn.model_selection import train_test_split, cross_val_score, KFold\n",
    "from sklearn.feature_selection import SequentialFeatureSelector\n",
    "from sklearn.neighbors import KNeighborsClassifier\n",
    "from sklearn.ensemble import RandomForestClassifier\n",
    "from sklearn import metrics, linear_model, datasets, svm"
   ]
  },
  {
   "cell_type": "code",
   "execution_count": 22,
   "id": "aadc64e7",
   "metadata": {},
   "outputs": [
    {
     "data": {
      "text/plain": [
       "0       3.0\n",
       "1       3.0\n",
       "2       3.0\n",
       "3       3.0\n",
       "4       3.0\n",
       "       ... \n",
       "2277    1.0\n",
       "2278    1.0\n",
       "2279    1.0\n",
       "2280    1.0\n",
       "2281    1.0\n",
       "Name: quadrant, Length: 2282, dtype: float64"
      ]
     },
     "execution_count": 22,
     "metadata": {},
     "output_type": "execute_result"
    }
   ],
   "source": [
    "# import & read dataset\n",
    "data = pd.read_csv('task_3_training.csv')\n",
    "\n",
    "# drop pianist_id, segment_id and snippet_id\n",
    "data = data.drop(['pianist_id', 'segment_id', 'snippet_id'], axis = 1)\n",
    "\n",
    "#create X (features) and y (response), also drop target values\n",
    "y = data['quadrant']\n",
    "X = data.drop(['quadrant','valence', 'arousal'], axis = 1)\n",
    "y"
   ]
  },
  {
   "cell_type": "code",
   "execution_count": 3,
   "id": "d69783ab",
   "metadata": {},
   "outputs": [],
   "source": [
    "# divide entire dataset into training and test sets (80/20)\n",
    "X_train, X_test, y_train, y_test = train_test_split(X, y, test_size = 0.2)"
   ]
  },
  {
   "cell_type": "code",
   "execution_count": 4,
   "id": "16940e26",
   "metadata": {},
   "outputs": [
    {
     "name": "stdout",
     "output_type": "stream",
     "text": [
      "0.36542669584245074\n"
     ]
    }
   ],
   "source": [
    "# classification accuracy with KNN with k = 20\n",
    "knn = KNeighborsClassifier(n_neighbors = 20)\n",
    "knn.fit(X_train, y_train)\n",
    "y_pred = knn.predict(X_test)\n",
    "print(metrics.accuracy_score(y_test, y_pred))"
   ]
  },
  {
   "cell_type": "code",
   "execution_count": 5,
   "id": "01b0fe32",
   "metadata": {},
   "outputs": [
    {
     "data": {
      "text/plain": [
       "array([0.37117904, 0.41484716, 0.44298246, 0.34210526, 0.33333333,\n",
       "       0.36403509, 0.3245614 , 0.40350877, 0.36842105, 0.34210526])"
      ]
     },
     "execution_count": 5,
     "metadata": {},
     "output_type": "execute_result"
    }
   ],
   "source": [
    "# now use cross-validation for knn:\n",
    "knn = KNeighborsClassifier(n_neighbors = 50)\n",
    "scores = cross_val_score(knn, X, y, cv=10, scoring='accuracy')\n",
    "scores"
   ]
  },
  {
   "cell_type": "code",
   "execution_count": 6,
   "id": "3f993b90",
   "metadata": {},
   "outputs": [
    {
     "data": {
      "text/plain": [
       "0.37070788324523096"
      ]
     },
     "execution_count": 6,
     "metadata": {},
     "output_type": "execute_result"
    }
   ],
   "source": [
    "scores.mean()"
   ]
  },
  {
   "cell_type": "code",
   "execution_count": 7,
   "id": "66381b3f",
   "metadata": {},
   "outputs": [],
   "source": [
    "# look for optimal k for kNN\n",
    "k_scores = []\n",
    "for k in range(1,300,5):\n",
    "    knn = KNeighborsClassifier(n_neighbors=k)\n",
    "    scores = cross_val_score(knn, X, y, cv=10, scoring='accuracy')\n",
    "    k_scores.append(scores.mean())"
   ]
  },
  {
   "cell_type": "code",
   "execution_count": 8,
   "id": "40659c8c",
   "metadata": {},
   "outputs": [
    {
     "data": {
      "text/plain": [
       "Text(0, 0.5, 'accuracy')"
      ]
     },
     "execution_count": 8,
     "metadata": {},
     "output_type": "execute_result"
    },
    {
     "data": {
      "image/png": "[encoded data removed]",
      "text/plain": [
       "<Figure size 432x288 with 1 Axes>"
      ]
     },
     "metadata": {
      "needs_background": "light"
     },
     "output_type": "display_data"
    }
   ],
   "source": [
    "# plot k vs accuracy\n",
    "plt.plot(range(1,300,5), k_scores)\n",
    "plt.xlabel('k')\n",
    "plt.ylabel('accuracy')"
   ]
  },
  {
   "cell_type": "markdown",
   "id": "a1291a9c",
   "metadata": {},
   "source": [
    "## Model selection: compare different models on the dataset"
   ]
  },
  {
   "cell_type": "markdown",
   "id": "2476bdb2",
   "metadata": {},
   "source": [
    "K-nearest Neighbors"
   ]
  },
  {
   "cell_type": "code",
   "execution_count": 9,
   "id": "d05c7563",
   "metadata": {},
   "outputs": [
    {
     "data": {
      "text/plain": [
       "0.3974143874971271"
      ]
     },
     "execution_count": 9,
     "metadata": {},
     "output_type": "execute_result"
    }
   ],
   "source": [
    "knn = KNeighborsClassifier(n_neighbors = 200)\n",
    "score_knn = cross_val_score(knn, X, y, cv=10, scoring='accuracy').mean()\n",
    "score_knn"
   ]
  },
  {
   "cell_type": "markdown",
   "id": "1f187a10",
   "metadata": {},
   "source": [
    "Logistic Regression"
   ]
  },
  {
   "cell_type": "code",
   "execution_count": 16,
   "id": "4b20bfcf",
   "metadata": {},
   "outputs": [
    {
     "data": {
      "text/plain": [
       "0.33914425802497516"
      ]
     },
     "execution_count": 16,
     "metadata": {},
     "output_type": "execute_result"
    }
   ],
   "source": [
    "logreg = linear_model.LogisticRegression(solver='liblinear')\n",
    "score_LR = cross_val_score(logreg, X, y, cv=10, scoring='accuracy').mean()\n",
    "score_LR"
   ]
  },
  {
   "cell_type": "markdown",
   "id": "177e5143",
   "metadata": {},
   "source": [
    "Random Forest Classifier"
   ]
  },
  {
   "cell_type": "code",
   "execution_count": 17,
   "id": "38949fe2",
   "metadata": {},
   "outputs": [
    {
     "data": {
      "text/plain": [
       "0.899343544857768"
      ]
     },
     "execution_count": 17,
     "metadata": {},
     "output_type": "execute_result"
    }
   ],
   "source": [
    "clf = RandomForestClassifier(n_estimators = 100)\n",
    "clf.fit(X_train, y_train)\n",
    "y_pred = clf.predict(X_test)\n",
    "metrics.accuracy_score(y_test, y_pred)"
   ]
  },
  {
   "cell_type": "code",
   "execution_count": 18,
   "id": "11e963b4",
   "metadata": {},
   "outputs": [],
   "source": [
    "clf = RandomForestClassifier(n_estimators = 100)\n",
    "score_clf = cross_val_score(clf, X, y, cv=10, scoring='accuracy').mean()"
   ]
  },
  {
   "cell_type": "markdown",
   "id": "aa613e0e",
   "metadata": {},
   "source": [
    "SVM"
   ]
  },
  {
   "cell_type": "code",
   "execution_count": null,
   "id": "0ed57b99",
   "metadata": {},
   "outputs": [],
   "source": [
    "# dauert zu lange"
   ]
  },
  {
   "cell_type": "code",
   "execution_count": null,
   "id": "0ffedeee",
   "metadata": {},
   "outputs": [],
   "source": [
    "svec = svm.SVC(kernel='linear')\n",
    "svec.fit(X_train, y_train)\n",
    "plot_decision_function(X_train, y_train, X_test, y_test, svec)"
   ]
  },
  {
   "cell_type": "code",
   "execution_count": null,
   "id": "62de129f",
   "metadata": {},
   "outputs": [],
   "source": [
    "svec_predictions = svec.predict(X_test)\n",
    "metrics.accuracy_score(y_test,svec_predictions)"
   ]
  },
  {
   "cell_type": "code",
   "execution_count": null,
   "id": "236a6185",
   "metadata": {},
   "outputs": [],
   "source": [
    "svec = svm.SVC(kernel='linear')\n",
    "score_svm = cross_val_score(svec, X, y, cv=10, scoring='accuracy').mean()"
   ]
  },
  {
   "cell_type": "markdown",
   "id": "dd7c6b9d",
   "metadata": {},
   "source": [
    "### compare and visualize the results"
   ]
  },
  {
   "cell_type": "code",
   "execution_count": 20,
   "id": "1fb9abe3",
   "metadata": {},
   "outputs": [
    {
     "data": {
      "text/plain": [
       "Text(0, 0.5, 'Score')"
      ]
     },
     "execution_count": 20,
     "metadata": {},
     "output_type": "execute_result"
    },
    {
     "data": {
      "image/png": "[encoded data removed]",
      "text/plain": [
       "<Figure size 432x288 with 1 Axes>"
      ]
     },
     "metadata": {
      "needs_background": "light"
     },
     "output_type": "display_data"
    }
   ],
   "source": [
    "models = ['KNNeighbors', 'LogisticRegression', 'RandomForest']\n",
    "scores = [score_knn, score_LR, score_clf]\n",
    "\n",
    "plt.bar(models, scores)\n",
    "plt.xlabel('Models')\n",
    "plt.ylabel('Score')"
   ]
  },
  {
   "cell_type": "code",
   "execution_count": null,
   "id": "caca6577",
   "metadata": {},
   "outputs": [],
   "source": []
  }
 ],
 "metadata": {
  "kernelspec": {
   "display_name": "Python 3",
   "language": "python",
   "name": "python3"
  },
  "language_info": {
   "codemirror_mode": {
    "name": "ipython",
    "version": 3
   },
   "file_extension": ".py",
   "mimetype": "text/x-python",
   "name": "python",
   "nbconvert_exporter": "python",
   "pygments_lexer": "ipython3",
   "version": "3.8.5"
  }
 },
 "nbformat": 4,
 "nbformat_minor": 5
}
